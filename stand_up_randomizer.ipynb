{
 "cells": [
  {
   "cell_type": "code",
   "execution_count": null,
   "id": "e6858456",
   "metadata": {
    "scrolled": false
   },
   "outputs": [],
   "source": [
    "import os\n",
    "import numpy as np\n",
    "import ipywidgets as widgets\n",
    "from IPython.display import display, HTML\n",
    "\n",
    "folder = 'pictures_to_use'\n",
    "names = ['Anna', 'Adam', 'Camelia', 'Florina', 'Vit', 'Vadym', 'Leon', 'Erik', 'Anezka', 'Jan', 'Michael', 'Petr', 'Gabriel', 'Vojtech', 'Andrea']\n",
    "cars = [os.path.join(folder, file) for file in os.listdir(folder) if file.endswith('.jpg')]\n",
    "\n",
    "def display_random_name_car(_):\n",
    "    shuffled_names = np.random.permutation(names)\n",
    "    html_str = '<div style=\"display: flex; flex-wrap: wrap; justify-content: center;\">'\n",
    "    for name, car in zip(shuffled_names, cars):\n",
    "        name_html = f\"<div style='width: 33.33%; text-align: center;'><h2 style='font-family: \\\"Old English Text MT\\\", Gothic, \\\"Blackletter\\\"; font-size: 40px; color: #006400; text-shadow: 2px 2px 5px #FFFF00; margin-bottom: 10px;'>{name}</h2><img src='{car}' width='200' style='display: block; margin-left: auto; margin-right: auto;'></div>\"\n",
    "        html_str += name_html\n",
    "    html_str += '</div>'\n",
    "    display(HTML(html_str))\n",
    "    display(button)\n",
    "\n",
    "button = widgets.Button(description=\"Generate\")\n",
    "button.on_click(display_random_name_car)\n",
    "display(button)\n"
   ]
  },
  {
   "cell_type": "code",
   "execution_count": null,
   "id": "29feb710",
   "metadata": {},
   "outputs": [],
   "source": []
  }
 ],
 "metadata": {
  "kernelspec": {
   "display_name": "Python 3 (ipykernel)",
   "language": "python",
   "name": "python3"
  },
  "language_info": {
   "codemirror_mode": {
    "name": "ipython",
    "version": 3
   },
   "file_extension": ".py",
   "mimetype": "text/x-python",
   "name": "python",
   "nbconvert_exporter": "python",
   "pygments_lexer": "ipython3",
   "version": "3.9.6"
  },
  "vscode": {
   "interpreter": {
    "hash": "46ca13d4159b004e8d1495b34fc28bbdc910b65cafaa47fa0405f549ca6e02b4"
   }
  }
 },
 "nbformat": 4,
 "nbformat_minor": 5
}
